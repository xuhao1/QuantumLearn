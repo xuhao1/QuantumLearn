{
 "cells": [
  {
   "cell_type": "code",
   "execution_count": 39,
   "metadata": {},
   "outputs": [
    {
     "data": {
      "application/json": "[\"HelloQ\"]",
      "text/html": [
       "<ul><li>HelloQ</li></ul>"
      ],
      "text/plain": [
       "HelloQ"
      ]
     },
     "execution_count": 39,
     "metadata": {},
     "output_type": "execute_result"
    }
   ],
   "source": [
    "operation HelloQ () : Unit {\n",
    "    Message(\"Hello quantum world!\");\n",
    "    using (q0 = Qubit()) {\n",
    "        //q0 is now |0> by default.\n",
    "        H(q0); // Applying a H gate on |0>, which gives H|0>=|+>\n",
    "\t\t//Lets take a measure of q0, should be half |0> and half |1>;\n",
    "\t\t//Every time run this measure gives different result\n",
    "        let res = M(q0); \n",
    "        Message($\"Final State 0 of q0 is {res}\");\n",
    "\t\tlet res2 = M(q0); //Lets take a measure of q0 again, found yes after measure q0 is collapse to one determined state\n",
    "        Message($\"Final State 1 of q0 is {res2}\");\n",
    "    }\n",
    "}\n"
   ]
  },
  {
   "cell_type": "code",
   "execution_count": 40,
   "metadata": {},
   "outputs": [
    {
     "name": "stdout",
     "output_type": "stream",
     "text": [
      "Hello quantum world!\n",
      "Final State 0 of q0 is One\n",
      "Final State 1 of q0 is One\n"
     ]
    },
    {
     "name": "stderr",
     "output_type": "stream",
     "text": [
      "Released qubits are not in zero state.\n"
     ]
    }
   ],
   "source": [
    "%simulate HelloQ"
   ]
  },
  {
   "cell_type": "code",
   "execution_count": 57,
   "metadata": {},
   "outputs": [
    {
     "data": {
      "application/json": "[\"QuRest\"]",
      "text/html": [
       "<ul><li>QuRest</li></ul>"
      ],
      "text/plain": [
       "QuRest"
      ]
     },
     "execution_count": 57,
     "metadata": {},
     "output_type": "execute_result"
    }
   ],
   "source": [
    "//Reset Qbuit\n",
    "\n",
    "operation QuRest() : Unit {\n",
    "    Message(\"Hello quantum world!\");\n",
    "    using (q0 = Qubit()) {\n",
    "        //q0 is now |0> by default.\n",
    "        H(q0); // Applying a H gate on |0>, which gives H|0>=|+>\n",
    "\t\t//Lets take a measure of q0, should be half |0> and half |1>;\n",
    "\t\t//Every time run this measure gives different result\n",
    "        let res = M(q0);         \n",
    "        //Measurement is not inversed operation, it convert superposition state to pure state\n",
    "        if (res == Zero) {\n",
    "            //Nothing\n",
    "        } else {\n",
    "            X(q0);\n",
    "        }\n",
    "        let res2 = M(q0); \n",
    "        //Result is always zero\n",
    "\t\tMessage($\"Final State 0 of q0 is {res2}\");\n",
    "    }\n",
    "}"
   ]
  },
  {
   "cell_type": "code",
   "execution_count": 58,
   "metadata": {},
   "outputs": [
    {
     "name": "stdout",
     "output_type": "stream",
     "text": [
      "Hello quantum world!\n",
      "Final State 0 of q0 is Zero\n"
     ]
    },
    {
     "data": {
      "application/json": "{\"@type\":\"tuple\"}",
      "text/plain": [
       "()"
      ]
     },
     "execution_count": 58,
     "metadata": {},
     "output_type": "execute_result"
    }
   ],
   "source": [
    "%simulate QuRest"
   ]
  },
  {
   "cell_type": "code",
   "execution_count": 80,
   "metadata": {},
   "outputs": [
    {
     "data": {
      "application/json": "[\"HelloRepeat\"]",
      "text/html": [
       "<ul><li>HelloRepeat</li></ul>"
      ],
      "text/plain": [
       "HelloRepeat"
      ]
     },
     "execution_count": 80,
     "metadata": {},
     "output_type": "execute_result"
    }
   ],
   "source": [
    "//Repeat Measure\n",
    "open Microsoft.Quantum.Convert;\n",
    "operation HelloRepeat () : Unit {\n",
    "    Message(\"Hello quantum world!\");\n",
    "    for (i in 0..10) {\n",
    "        using (q0 = Qubit()) {\n",
    "            //q0 is now |0> by default.\n",
    "            H(q0); // Applying a H gate on |0>, which gives H|0>=|+>\n",
    "            //Lets take a measure of q0, should be half |0> and half |1>;\n",
    "            //Every time run this measure gives different result\n",
    "            let res = M(q0); \n",
    "            let resultInt = ResultArrayAsInt([res]);\n",
    "            Message($\"Final State of q0 is {res}:{resultInt}\");\n",
    "            \n",
    "            //After operation, we must release the q\n",
    "            if (res == Zero) {\n",
    "            //Nothing\n",
    "            } else {\n",
    "                X(q0);\n",
    "            }\n",
    "        }\n",
    "    }\n",
    "}\n"
   ]
  },
  {
   "cell_type": "code",
   "execution_count": 81,
   "metadata": {},
   "outputs": [
    {
     "name": "stdout",
     "output_type": "stream",
     "text": [
      "Hello quantum world!\n",
      "Final State of q0 is One:1\n",
      "Final State of q0 is Zero:0\n",
      "Final State of q0 is Zero:0\n",
      "Final State of q0 is One:1\n",
      "Final State of q0 is Zero:0\n",
      "Final State of q0 is Zero:0\n",
      "Final State of q0 is One:1\n",
      "Final State of q0 is Zero:0\n",
      "Final State of q0 is One:1\n",
      "Final State of q0 is Zero:0\n",
      "Final State of q0 is One:1\n"
     ]
    },
    {
     "data": {
      "application/json": "{\"@type\":\"tuple\"}",
      "text/plain": [
       "()"
      ]
     },
     "execution_count": 81,
     "metadata": {},
     "output_type": "execute_result"
    }
   ],
   "source": [
    "%simulate HelloRepeat"
   ]
  },
  {
   "cell_type": "code",
   "execution_count": 93,
   "metadata": {},
   "outputs": [
    {
     "data": {
      "application/json": "[\"HelloRepeat2\"]",
      "text/html": [
       "<ul><li>HelloRepeat2</li></ul>"
      ],
      "text/plain": [
       "HelloRepeat2"
      ]
     },
     "execution_count": 93,
     "metadata": {},
     "output_type": "execute_result"
    }
   ],
   "source": [
    "//Repeat Measure\n",
    "open Microsoft.Quantum.Convert;\n",
    "operation HelloRepeat2 () : Unit {\n",
    "    mutable n1 = 0;\n",
    "    for (i in 0 .. 1000) {                 // This for loop repeats 6 times.\n",
    "        using ( q = Qubit() ) {\n",
    "            H(q); T(q); H(q);\n",
    "\n",
    "            let result = M(q);\n",
    "            //let resultInt = ResultArrayAsInt([result]);\n",
    "            //Message($\"Result: {resultInt}\");\n",
    "\n",
    "            if (result == Zero) {\n",
    "                // No operation.\n",
    "            } else {\n",
    "                X(q);\n",
    "                set n1 = n1 + 1;\n",
    "            }\n",
    "        } \n",
    "    }\n",
    "    Message($\"Resultof zero {n1}/{1000}\");\n",
    "}\n"
   ]
  },
  {
   "cell_type": "code",
   "execution_count": 94,
   "metadata": {},
   "outputs": [
    {
     "name": "stdout",
     "output_type": "stream",
     "text": [
      "Resultof zero 154/1000\n"
     ]
    },
    {
     "data": {
      "application/json": "{\"@type\":\"tuple\"}",
      "text/plain": [
       "()"
      ]
     },
     "execution_count": 94,
     "metadata": {},
     "output_type": "execute_result"
    }
   ],
   "source": [
    "%simulate HelloRepeat2"
   ]
  },
  {
   "cell_type": "code",
   "execution_count": 98,
   "metadata": {},
   "outputs": [
    {
     "data": {
      "application/json": "[\"HelloRepeat3\",\"ResetQubit\"]",
      "text/html": [
       "<ul><li>HelloRepeat3</li><li>ResetQubit</li></ul>"
      ],
      "text/plain": [
       "HelloRepeat3, ResetQubit"
      ]
     },
     "execution_count": 98,
     "metadata": {},
     "output_type": "execute_result"
    }
   ],
   "source": [
    "//Function\n",
    "open Microsoft.Quantum.Convert;\n",
    "operation ResetQubit(target : Qubit) : Unit {\n",
    "    let result = M(target);\n",
    "    if (result == Zero) {\n",
    "        // No operation is necessary, since the qubit is already in |0>\n",
    "    } else {\n",
    "        // Perform a quantum NOT gate to return the qubit from |1> to |0>\n",
    "        X(target);\n",
    "    }\n",
    "}\n",
    "    \n",
    "\n",
    "operation HelloRepeat3 () : Unit {\n",
    "    mutable n1 = 0;\n",
    "    for (i in 0 .. 1000) {                 // This for loop repeats 6 times.\n",
    "        using ( q = Qubit() ) {\n",
    "            H(q); T(q); H(q);\n",
    "\n",
    "            let result = M(q);\n",
    "            //let resultInt = ResultArrayAsInt([result]);\n",
    "            //Message($\"Result: {resultInt}\");\n",
    "            if (result == One) {\n",
    "                set n1 = n1 + 1;\n",
    "            }\n",
    "            ResetQubit(q);\n",
    "        } \n",
    "    }\n",
    "    Message($\"Resultof zero {n1}/{1000}\");\n",
    "}\n"
   ]
  },
  {
   "cell_type": "code",
   "execution_count": 101,
   "metadata": {},
   "outputs": [
    {
     "name": "stdout",
     "output_type": "stream",
     "text": [
      "Resultof zero 152/1000\n"
     ]
    },
    {
     "data": {
      "application/json": "{\"@type\":\"tuple\"}",
      "text/plain": [
       "()"
      ]
     },
     "execution_count": 101,
     "metadata": {},
     "output_type": "execute_result"
    }
   ],
   "source": [
    "%simulate HelloRepeat3"
   ]
  },
  {
   "cell_type": "code",
   "execution_count": null,
   "metadata": {},
   "outputs": [],
   "source": []
  }
 ],
 "metadata": {
  "kernelspec": {
   "display_name": "Q#",
   "language": "qsharp",
   "name": "iqsharp"
  },
  "language_info": {
   "file_extension": ".qs",
   "mimetype": "text/x-qsharp",
   "name": "qsharp",
   "version": "0.4"
  }
 },
 "nbformat": 4,
 "nbformat_minor": 2
}
