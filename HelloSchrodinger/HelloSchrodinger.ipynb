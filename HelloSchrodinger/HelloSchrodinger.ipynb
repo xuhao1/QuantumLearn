{
 "cells": [
  {
   "cell_type": "code",
   "execution_count": 15,
   "metadata": {},
   "outputs": [
    {
     "data": {
      "application/json": "[\"HelloQ\"]",
      "text/html": [
       "<ul><li>HelloQ</li></ul>"
      ],
      "text/plain": [
       "HelloQ"
      ]
     },
     "execution_count": 15,
     "metadata": {},
     "output_type": "execute_result"
    }
   ],
   "source": [
    "operation HelloQ () : Unit {\n",
    "        Message(\"Hello quantum world!\");\n",
    "        using (q0 = Qubit()) {\n",
    "            //q0 is now |0> by default.\n",
    "            H(q0); // Applying a H gate on |0>, which gives H|0>=|+>\n",
    "\t\t\t//Lets take a measure of q0, should be half |0> and half |1>;\n",
    "\t\t\t//Every time run this measure gives different result\n",
    "            let res = M(q0); \n",
    "            Message($\"Final State 0 of q0 is {res}\");\n",
    "\t\t\tH(q0);//Test can we operation on q0 again?\n",
    "            let res2 = M(q0); //Lets take a measure of q0, should be half |0> and half |1>\n",
    "            Message($\"Final State 1 of q0 is {res2}\");\n",
    "\n",
    "        }\n",
    "    }"
   ]
  },
  {
   "cell_type": "code",
   "execution_count": 16,
   "metadata": {},
   "outputs": [
    {
     "name": "stdout",
     "output_type": "stream",
     "text": [
      "Hello quantum world!\n",
      "Final State 0 of q0 is Zero\n",
      "Final State 1 of q0 is Zero\n"
     ]
    },
    {
     "data": {
      "application/json": "{\"@type\":\"tuple\"}",
      "text/plain": [
       "()"
      ]
     },
     "execution_count": 16,
     "metadata": {},
     "output_type": "execute_result"
    }
   ],
   "source": [
    "%simulate HelloQ"
   ]
  },
  {
   "cell_type": "code",
   "execution_count": null,
   "metadata": {},
   "outputs": [],
   "source": []
  }
 ],
 "metadata": {
  "kernelspec": {
   "display_name": "Q#",
   "language": "qsharp",
   "name": "iqsharp"
  },
  "language_info": {
   "file_extension": ".qs",
   "mimetype": "text/x-qsharp",
   "name": "qsharp",
   "version": "0.4"
  }
 },
 "nbformat": 4,
 "nbformat_minor": 2
}
